{
 "cells": [
  {
   "cell_type": "code",
   "execution_count": 1,
   "id": "9f0598b8",
   "metadata": {},
   "outputs": [
    {
     "name": "stderr",
     "output_type": "stream",
     "text": [
      "D:\\anaconda\\envs\\pytorch\\lib\\site-packages\\tqdm\\auto.py:22: TqdmWarning: IProgress not found. Please update jupyter and ipywidgets. See https://ipywidgets.readthedocs.io/en/stable/user_install.html\n",
      "  from .autonotebook import tqdm as notebook_tqdm\n"
     ]
    }
   ],
   "source": [
    "import torch\n",
    "import torch.nn as nn"
   ]
  },
  {
   "cell_type": "code",
   "execution_count": 78,
   "id": "9cde4dac",
   "metadata": {},
   "outputs": [],
   "source": [
    "class BatchNorm1d(nn.Module):\n",
    "    def __init__(self, num_features: int, momentum: float = 0.1, eps: float = 1e-5):\n",
    "        super(BatchNorm1d, self).__init__()\n",
    "        self.num_features = num_features\n",
    "        self.momentum = momentum\n",
    "        self.eps = eps\n",
    "        self.register_buffer('running_mean', torch.zeros((num_features, 1)), persistent=True)\n",
    "        self.register_buffer('running_var', torch.ones((num_features, 1)), persistent=True)\n",
    "        self.gamma = nn.Parameter(torch.ones((num_features, 1)), requires_grad=True)\n",
    "        self.beta = nn.Parameter(torch.zeros((num_features, 1)), requires_grad=True)\n",
    "        \n",
    "    def forward(self, inputs):\n",
    "        batch_size, c, timesteps = inputs.shape\n",
    "        assert self.num_features == c, f\"expected tensor's channels is {slef.num_features}, buf found {c}\"\n",
    "        mean = torch.mean(inputs, dim=[0, -1], keepdims=True)\n",
    "        var = torch.var(inputs, dim=[0, -1], unbiased=False, keepdims=True)\n",
    "        if self.training is True:\n",
    "            self.running_mean = (1 - self.momentum) * self.running_mean + self.momentum * mean\n",
    "            self.running_var = (1 - self.momentum) * self.running_var + self.momentum * var\n",
    "        else:\n",
    "            mean = torch.autograd.Variable(self.running_mean)\n",
    "            var = torch.autograd.Variable(self.running_var)\n",
    "        out = self.gamma * (inputs - mean) / torch.sqrt(var + self.eps) + self.beta\n",
    "        return out"
   ]
  },
  {
   "cell_type": "code",
   "execution_count": 84,
   "id": "d93b1ff1",
   "metadata": {},
   "outputs": [
    {
     "name": "stdout",
     "output_type": "stream",
     "text": [
      "bn1 state dict OrderedDict([('weight', tensor([1., 1.])), ('bias', tensor([0., 0.])), ('running_mean', tensor([0., 0.])), ('running_var', tensor([1., 1.])), ('num_batches_tracked', tensor(0))])\n",
      "bn2 state dict OrderedDict([('gamma', tensor([[1.],\n",
      "        [1.]])), ('beta', tensor([[0.],\n",
      "        [0.]])), ('running_mean', tensor([[0.],\n",
      "        [0.]])), ('running_var', tensor([[1.],\n",
      "        [1.]]))])\n",
      "========================================\n",
      "bn1 output tensor([[[-0.7559,  1.9225, -1.1163, -0.8501],\n",
      "         [-1.2276,  1.6587, -1.0324,  0.1028]],\n",
      "\n",
      "        [[-0.5740,  1.1407, -0.1135,  0.3466],\n",
      "         [ 1.4652, -0.6641, -0.0256, -0.2768]]],\n",
      "       grad_fn=<NativeBatchNormBackward0>)\n",
      "bn2 output tensor([[[-0.7559,  1.9225, -1.1163, -0.8501],\n",
      "         [-1.2276,  1.6587, -1.0324,  0.1028]],\n",
      "\n",
      "        [[-0.5740,  1.1407, -0.1135,  0.3466],\n",
      "         [ 1.4652, -0.6641, -0.0256, -0.2768]]], grad_fn=<AddBackward0>)\n"
     ]
    }
   ],
   "source": [
    "torch.manual_seed(2)\n",
    "batch_size, c, timesteps = 2, 2, 4\n",
    "bn1 = nn.BatchNorm1d(c)\n",
    "bn2 = BatchNorm1d(c)\n",
    "print('bn1 state dict', bn1.state_dict())\n",
    "print('bn2 state dict', bn2.state_dict())\n",
    "print('='*40)\n",
    "inputs = torch.randn((batch_size, c, timesteps))\n",
    "out1 = bn1(inputs)\n",
    "out2 = bn2(inputs)\n",
    "print('bn1 output', out1)\n",
    "print('bn2 output', out2)"
   ]
  },
  {
   "cell_type": "markdown",
   "id": "1d041550",
   "metadata": {},
   "source": [
    "## 经过train之后的mean与官方相等，但是std与官方存在差异"
   ]
  },
  {
   "cell_type": "code",
   "execution_count": 85,
   "id": "39d179e3",
   "metadata": {},
   "outputs": [
    {
     "name": "stdout",
     "output_type": "stream",
     "text": [
      "bn1 output: tensor([[[-1.0119,  0.9848, -1.2805, -1.0821],\n",
      "         [-1.2117,  1.2012, -1.0485, -0.0996]],\n",
      "\n",
      "        [[-0.8762,  0.4020, -0.5330, -0.1900],\n",
      "         [ 1.0394, -0.7406, -0.2069, -0.4169]]],\n",
      "       grad_fn=<NativeBatchNormBackward0>)\n",
      "bn2 output: tensor([[[-1.0159,  0.9887, -1.2857, -1.0864],\n",
      "         [-1.2178,  1.2072, -1.0538, -0.1001]],\n",
      "\n",
      "        [[-0.8797,  0.4036, -0.5351, -0.1908],\n",
      "         [ 1.0446, -0.7444, -0.2079, -0.4190]]], grad_fn=<AddBackward0>)\n"
     ]
    }
   ],
   "source": [
    "bn1.eval()\n",
    "bn2.eval()\n",
    "out1 = bn1(inputs)\n",
    "out2 = bn2(inputs)\n",
    "print('bn1 output:' ,out1)\n",
    "print('bn2 output:', out2)"
   ]
  },
  {
   "cell_type": "markdown",
   "id": "1ef04f48",
   "metadata": {},
   "source": [
    "## 没有经过train（）之后，进行eval（）后结果与官方相同；\n",
    "## 经过train（）之后，进行eval（）后的结果与官方存在差异"
   ]
  },
  {
   "cell_type": "code",
   "execution_count": 86,
   "id": "a89d202c",
   "metadata": {},
   "outputs": [
    {
     "name": "stdout",
     "output_type": "stream",
     "text": [
      "Torch API: tensor([-0.0488, -0.0204]) tensor([0.9610, 0.9781])\n",
      "My Test: tensor([[[-0.0488],\n",
      "         [-0.0204]]]) tensor([[[0.9534],\n",
      "         [0.9684]]])\n"
     ]
    }
   ],
   "source": [
    "print('Torch API:', bn1.running_mean, bn1.running_var)\n",
    "print('My Test:', bn2.running_mean, bn2.running_var)"
   ]
  },
  {
   "cell_type": "code",
   "execution_count": null,
   "id": "96b2dab5",
   "metadata": {},
   "outputs": [],
   "source": []
  }
 ],
 "metadata": {
  "kernelspec": {
   "display_name": "Python 3 (ipykernel)",
   "language": "python",
   "name": "python3"
  },
  "language_info": {
   "codemirror_mode": {
    "name": "ipython",
    "version": 3
   },
   "file_extension": ".py",
   "mimetype": "text/x-python",
   "name": "python",
   "nbconvert_exporter": "python",
   "pygments_lexer": "ipython3",
   "version": "3.8.13"
  }
 },
 "nbformat": 4,
 "nbformat_minor": 5
}
